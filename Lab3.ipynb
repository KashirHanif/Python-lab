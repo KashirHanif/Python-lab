{
  "nbformat": 4,
  "nbformat_minor": 0,
  "metadata": {
    "colab": {
      "provenance": []
    },
    "kernelspec": {
      "name": "python3",
      "display_name": "Python 3"
    },
    "language_info": {
      "name": "python"
    }
  },
  "cells": [
    {
      "cell_type": "code",
      "execution_count": null,
      "metadata": {
        "id": "251iFQrJvgAB"
      },
      "outputs": [],
      "source": [
        "from collections import deque\n",
        "\n",
        "def bfs(graph, start):\n",
        "    visited = set()\n",
        "    queue = deque([start])\n",
        "\n",
        "    while queue:\n",
        "        node = queue.popleft()\n",
        "        if node not in visited:\n",
        "            print(node, end=\" \")  # Process the node\n",
        "            visited.add(node)\n",
        "            queue.extend(graph[node])  # Add neighbors to the queue\n",
        "\n",
        "# Example usage:\n",
        "graph = {\n",
        "    'A': ['B', 'C'],\n",
        "    'B': ['A', 'D', 'E'],\n",
        "    'C': ['A', 'F', 'G'],\n",
        "    'D': ['B'],\n",
        "    'E': ['B', 'H'],\n",
        "    'F': ['C'],\n",
        "    'G': ['C'],\n",
        "    'H': ['E']\n",
        "}\n",
        "\n",
        "bfs(graph, 'A')  # Output: A B C D E F G H\n"
      ]
    },
    {
      "cell_type": "markdown",
      "source": [
        "#Activity 1\n"
      ],
      "metadata": {
        "id": "P2sqOmdl5MTb"
      }
    },
    {
      "cell_type": "markdown",
      "source": [],
      "metadata": {
        "id": "Uc5Bt4Ub-mVx"
      }
    },
    {
      "cell_type": "markdown",
      "source": [
        "# Activity 1-b\n"
      ],
      "metadata": {
        "id": "qJ8eEgQ6-r8F"
      }
    },
    {
      "cell_type": "code",
      "source": [
        "def BFS():\n",
        "    initialState = 'D'\n",
        "    goalState = 'F'\n",
        "\n",
        "    graph = {\n",
        "        'A': Node('A', None, ['B', 'C', 'E'], None),\n",
        "        'B': Node('B', None, ['A', 'D', 'E'], None),\n",
        "        'C': Node('C', None, ['A', 'F', 'G'], None),\n",
        "        'D': Node('D', None, ['B', 'E'], None),\n",
        "        'E': Node('E', None, ['A', 'B', 'D'], None),\n",
        "        'F': Node('F', None, ['C'], None),\n",
        "        'G': Node('G', None, ['C'], None)\n",
        "    }\n",
        "\n",
        "    frontier = [initialState]\n",
        "    explored = []\n",
        "\n",
        "    while len(frontier) != 0:\n",
        "        currentNode = frontier.pop(0)\n",
        "        explored.append(currentNode)\n",
        "\n",
        "        for child in graph[currentNode].actions:\n",
        "            if child not in frontier and child not in explored:\n",
        "                graph[child].parent = currentNode\n",
        "                if graph[child].state == goalState:\n",
        "                    return actionSequence(graph, initialState, goalState)\n",
        "                frontier.append(child)\n",
        "\n",
        "\n",
        "def actionSequence(graph, initialState, goalState):\n",
        "    solution = [goalState]\n",
        "    currentParent = graph[goalState].parent\n",
        "\n",
        "    while currentParent is not None:\n",
        "        solution.append(currentParent)\n",
        "        currentParent = graph[currentParent].parent\n",
        "\n",
        "    solution.reverse()\n",
        "    return solution\n",
        "\n",
        "\n",
        "solution = BFS()\n",
        "print(solution)"
      ],
      "metadata": {
        "id": "eqc9swsN-lvs"
      },
      "execution_count": null,
      "outputs": []
    },
    {
      "cell_type": "markdown",
      "source": [
        "Activity 1-a\n"
      ],
      "metadata": {
        "id": "wwYtFog_LDCv"
      }
    },
    {
      "cell_type": "code",
      "source": [
        "from collections import deque\n",
        "\n",
        "# Define the Node class\n",
        "class Node:\n",
        "    state = None  # Class variable shared by all instances\n",
        "\n",
        "    def _init_(self, state, parent=None, actions=None, totalCost=0):\n",
        "        self.state = state  # Unique to each node\n",
        "        self.parent = parent\n",
        "        self.actions = actions if actions else []  # List of child nodes\n",
        "        self.totalCost = totalCost  # Path cost from the start node\n",
        "\n",
        "# Define the graph as a dictionary of Node objects\n",
        "graph = {\n",
        "    'A': Node('A', None, ['B', 'C', 'E'], 0),\n",
        "    'B': Node('B', None, ['A', 'D', 'E'], 0),\n",
        "    'C': Node('C', None, ['A', 'F', 'G'], 0),\n",
        "    'D': Node('D', None, ['B'], 0),\n",
        "    'E': Node('E', None, ['A', 'B'], 0),\n",
        "    'F': Node('F', None, ['C'], 0),\n",
        "    'G': Node('G', None, ['C'], 0)\n",
        "}\n",
        "\n",
        "# Breadth-First Search (BFS) Algorithm\n",
        "def bfs(start, goal):\n",
        "    visited = set()  # Set to track visited nodes\n",
        "    queue = deque([start])  # Initialize queue with start node\n",
        "\n",
        "    while queue:\n",
        "        current = queue.popleft()  # Dequeue the first node\n",
        "\n",
        "        if current in visited:\n",
        "            continue  # Skip already visited nodes\n",
        "\n",
        "        print(f\"Visiting: {current}\")  # Print the visited node\n",
        "        visited.add(current)\n",
        "\n",
        "        if current == goal:  # If goal node is found, stop\n",
        "            print(f\"Goal '{goal}' found!\")\n",
        "            return\n",
        "\n",
        "        # Enqueue all unvisited neighbors\n",
        "        for neighbor in graph[current].actions:\n",
        "            if neighbor not in visited:\n",
        "                queue.append(neighbor)\n",
        "\n",
        "# Run BFS from 'A' to find 'G'\n",
        "print(\"BFS Traversal:\")\n",
        "bfs('A', 'G')"
      ],
      "metadata": {
        "id": "ABnvPkLZ5Lg-"
      },
      "execution_count": null,
      "outputs": []
    },
    {
      "cell_type": "markdown",
      "source": [],
      "metadata": {
        "id": "sfLeEC6KLBtH"
      }
    },
    {
      "cell_type": "markdown",
      "source": [
        "#Lab task 01\n"
      ],
      "metadata": {
        "id": "tEP_voceLKIx"
      }
    },
    {
      "cell_type": "code",
      "source": [
        "from collections import deque\n",
        "\n",
        "graph = {\n",
        "    'Arad': ['Zerind', 'Sibiu', 'Timisoara'],\n",
        "    'Zerind': ['Arad', 'Oradea'],\n",
        "    'Oradea': ['Zerind', 'Sibiu'],\n",
        "    'Sibiu': ['Arad', 'Oradea', 'Fagaras', 'Rimnicu Vilcea'],\n",
        "    'Fagaras': ['Sibiu', 'Bucharest'],\n",
        "    'Rimnicu Vilcea': ['Sibiu', 'Pitesti', 'Craiova'],\n",
        "    'Timisoara': ['Arad', 'Lugoj'],\n",
        "    'Lugoj': ['Timisoara', 'Mehadia'],\n",
        "    'Mehadia': ['Lugoj', 'Drobeta'],\n",
        "    'Drobeta': ['Mehadia', 'Craiova'],\n",
        "    'Craiova': ['Drobeta', 'Rimnicu Vilcea', 'Pitesti'],\n",
        "    'Pitesti': ['Rimnicu Vilcea', 'Craiova', 'Bucharest'],\n",
        "    'Bucharest': ['Fagaras', 'Pitesti', 'Urziceni', 'Giurgiu'],\n",
        "    'Giurgiu': ['Bucharest'],\n",
        "    'Urziceni': ['Bucharest', 'Vaslui', 'Hirsova'],\n",
        "    'Vaslui': ['Iasi', 'Urziceni'],\n",
        "    'Iasi': ['Neamt', 'Vaslui'],\n",
        "    'Neamt': ['Iasi'],\n",
        "    'Hirsova': ['Urziceni', 'Eforie'],\n",
        "    'Eforie': ['Hirsova']\n",
        "}\n",
        "\n",
        "def bfs(start, goal):\n",
        "    queue = deque([[start]])\n",
        "    visited = set()\n",
        "\n",
        "    while queue:\n",
        "        path = queue.popleft()\n",
        "        node = path[-1]\n",
        "\n",
        "        if node == goal:\n",
        "            return path\n",
        "\n",
        "        if node not in visited:\n",
        "            visited.add(node)\n",
        "            for neighbor in graph.get(node, []):\n",
        "                new_path = list(path)\n",
        "                new_path.append(neighbor)\n",
        "                queue.append(new_path)\n",
        "\n",
        "print(bfs('Arad', 'Bucharest'))"
      ],
      "metadata": {
        "id": "kkY21QRCBk1x"
      },
      "execution_count": null,
      "outputs": []
    },
    {
      "cell_type": "markdown",
      "source": [
        "#Lab task 02\n"
      ],
      "metadata": {
        "id": "17wKrff5MyA9"
      }
    },
    {
      "cell_type": "code",
      "source": [
        "from collections import deque\n",
        "\n",
        "\n",
        "maze = [\n",
        "    [1, 1, 1, 1, 1, 1, 1],\n",
        "    [1, 0, 0, 0, 0, 0, 1],\n",
        "    [1, 0, 1, 1, 1, 0, 1],\n",
        "    [1, 0, 1, 0, 1, 0, 1],\n",
        "    [1, 0, 1, 0, 0, 0, 1],\n",
        "    [1, 0, 0, 0, 1, 1, 1],\n",
        "    [1, 1, 1, 1, 1, 1, 1]\n",
        "]\n",
        "\n",
        "\n",
        "start = (5, 1)\n",
        "goal = (1, 5)\n",
        "\n",
        "\n",
        "directions = [(1, 0), (-1, 0), (0, 1), (0, -1)]\n",
        "\n",
        "def bfs(maze, start, goal):\n",
        "    queue = deque([(start, [start])])\n",
        "    visited = set([start])\n",
        "\n",
        "    while queue:\n",
        "        (row, col), path = queue.popleft()\n",
        "\n",
        "\n",
        "        if (row, col) == goal:\n",
        "            return path\n",
        "\n",
        "\n",
        "        for dr, dc in directions:\n",
        "            new_row, new_col = row + dr, col + dc\n",
        "\n",
        "            if (0 <= new_row < len(maze) and 0 <= new_col < len(maze[0]) and\n",
        "                maze[new_row][new_col] == 0 and (new_row, new_col) not in visited):\n",
        "\n",
        "                queue.append(((new_row, new_col), path + [(new_row, new_col)]))\n",
        "                visited.add((new_row, new_col))\n",
        "\n",
        "    return None\n",
        "\n",
        "\n",
        "path = bfs(maze, start, goal)\n",
        "if path:\n",
        "    print(\"Shortest Path:\", path)\n",
        "else:\n",
        "    print(\"No path found.\")"
      ],
      "metadata": {
        "id": "sgnr0cuOMw4X"
      },
      "execution_count": null,
      "outputs": []
    },
    {
      "cell_type": "markdown",
      "source": [
        "# Network x graph visualization for bfs\n"
      ],
      "metadata": {
        "id": "0LoNgwdrEsUg"
      }
    },
    {
      "cell_type": "code",
      "source": [
        "import networkx as nx\n",
        "import matplotlib.pyplot as plt\n",
        "from collections import deque\n",
        "\n",
        "def bfs_visualize(graph, start):\n",
        "    visited = set()\n",
        "    queue = deque([start])\n",
        "    bfs_edges = []\n",
        "\n",
        "    while queue:\n",
        "        node = queue.popleft()\n",
        "        if node not in visited:\n",
        "            visited.add(node)\n",
        "            for neighbor in graph.neighbors(node):\n",
        "                if neighbor not in visited:\n",
        "                    queue.append(neighbor)\n",
        "                    bfs_edges.append((node, neighbor))  # Store edges for visualization\n",
        "\n",
        "    return bfs_edges\n",
        "\n",
        "# Create a graph\n",
        "G = nx.Graph()\n",
        "edges = [\n",
        "    ('A', 'B'), ('A', 'C'), ('B', 'D'), ('B', 'E'),\n",
        "    ('C', 'F'), ('C', 'G'), ('E', 'H')\n",
        "]\n",
        "G.add_edges_from(edges)\n",
        "\n",
        "# Perform BFS and get edges\n",
        "start_node = 'A'\n",
        "bfs_edges = bfs_visualize(G, start_node)\n",
        "\n",
        "# Draw the graph\n",
        "pos = nx.spring_layout(G)  # Layout for visualization\n",
        "plt.figure(figsize=(8, 6))\n",
        "\n",
        "# Draw all nodes and edges\n",
        "nx.draw(G, pos, with_labels=True, node_color='lightblue', edge_color='gray', node_size=2000, font_size=12, font_weight='bold')\n",
        "\n",
        "# Highlight BFS traversal edges\n",
        "nx.draw_networkx_edges(G, pos, edgelist=bfs_edges, edge_color='red', width=2)\n",
        "\n",
        "plt.title(\"BFS Visualization using NetworkX\")\n",
        "plt.show()\n"
      ],
      "metadata": {
        "colab": {
          "base_uri": "https://localhost:8080/",
          "height": 659
        },
        "id": "nrissBqtEqjm",
        "outputId": "cda64550-02e2-4ca7-d6d2-ef62a70fabe5"
      },
      "execution_count": 1,
      "outputs": [
        {
          "output_type": "display_data",
          "data": {
            "text/plain": [
              "<Figure size 800x600 with 1 Axes>"
            ],
            "image/png": "[encoded data removed]"
          },
          "metadata": {}
        }
      ]
    },
    {
      "cell_type": "markdown",
      "source": [
        "# BFS algorithm to find shortest path using network x\n"
      ],
      "metadata": {
        "id": "mx71eetxG338"
      }
    },
    {
      "cell_type": "code",
      "source": [
        "import networkx as nx\n",
        "import matplotlib.pyplot as plt\n",
        "from collections import deque\n",
        "\n",
        "def bfs_path(graph, start, goal):\n",
        "    queue = deque([[start]])  # Queue stores paths\n",
        "    visited = set()\n",
        "\n",
        "    while queue:\n",
        "        path = queue.popleft()  # Get the first path from the queue\n",
        "        node = path[-1]  # Last node in the current path\n",
        "\n",
        "        if node == goal:\n",
        "            return path  # Return the path if the goal is reached\n",
        "\n",
        "        if node not in visited:\n",
        "            visited.add(node)\n",
        "            for neighbor in graph.neighbors(node):\n",
        "                new_path = path + [neighbor]  # Create a new path\n",
        "                queue.append(new_path)\n",
        "\n",
        "    return None  # Return None if no path is found\n",
        "\n",
        "# Create a graph\n",
        "G = nx.Graph()\n",
        "edges = [\n",
        "    ('A', 'B'), ('A', 'C'), ('B', 'D'), ('B', 'E'),\n",
        "    ('C', 'F'), ('C', 'G'), ('E', 'H')\n",
        "]\n",
        "G.add_edges_from(edges)\n",
        "\n",
        "# Find BFS path\n",
        "start_node = 'A'\n",
        "goal_node = 'H'\n",
        "path = bfs_path(G, start_node, goal_node)\n",
        "\n",
        "# Draw the graph\n",
        "pos = nx.spring_layout(G)  # Layout for better visualization\n",
        "plt.figure(figsize=(8, 6))\n",
        "\n",
        "# Draw all nodes and edges\n",
        "nx.draw(G, pos, with_labels=True, node_color='lightblue', edge_color='gray', node_size=2000, font_size=12, font_weight='bold')\n",
        "\n",
        "# Highlight BFS path in red\n",
        "if path:\n",
        "    path_edges = list(zip(path, path[1:]))  # Convert path nodes into edges\n",
        "    nx.draw_networkx_edges(G, pos, edgelist=path_edges, edge_color='red', width=2)\n",
        "\n",
        "plt.title(f\"BFS Shortest Path from {start_node} to {goal_node}\")\n",
        "plt.show()\n"
      ],
      "metadata": {
        "colab": {
          "base_uri": "https://localhost:8080/",
          "height": 659
        },
        "id": "i_RFifIXG3M2",
        "outputId": "230995b2-bc18-4577-fc18-b82a7f4a3ddb"
      },
      "execution_count": 3,
      "outputs": [
        {
          "output_type": "display_data",
          "data": {
            "text/plain": [
              "<Figure size 800x600 with 1 Axes>"
            ],
            "image/png": "[encoded data removed]"
          },
          "metadata": {}
        }
      ]
    }
  ]
}