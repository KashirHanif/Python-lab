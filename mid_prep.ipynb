{
  "cells": [
    {
      "cell_type": "markdown",
      "metadata": {
        "id": "mH9GoHNv5P57"
      },
      "source": [
        "#BFS"
      ]
    },
    {
      "cell_type": "code",
      "execution_count": null,
      "metadata": {
        "colab": {
          "base_uri": "https://localhost:8080/"
        },
        "id": "akkcNli25NMJ",
        "outputId": "4a4bc010-f903-4505-b25f-5f5bea6904fc"
      },
      "outputs": [
        {
          "ename": "",
          "evalue": "",
          "output_type": "error",
          "traceback": [
            "\u001b[1;31mRunning cells with 'Python 3.11.7' requires the ipykernel package.\n",
            "\u001b[1;31m<a href='command:jupyter.createPythonEnvAndSelectController'>Create a Python Environment</a> with the required packages.\n",
            "\u001b[1;31mOr install 'ipykernel' using the command: 'c:/msys64/ucrt64/bin/python3.exe -m pip install ipykernel -U --user --force-reinstall'"
          ]
        }
      ],
      "source": [
        "from collections import deque\n",
        "\n",
        "graph = {\n",
        "    'S': ['E', 'H', 'I'],\n",
        "    'A': ['B', 'D'],\n",
        "    'B': ['A', 'E', 'C'],\n",
        "    'C': ['B', 'F'],\n",
        "    'D': ['A', 'E'],\n",
        "    'E': ['B', 'D', 'F'],\n",
        "    'F': ['J', 'I', 'E'],\n",
        "    'G': ['D', 'H', 'N'],\n",
        "    'H': ['S', 'K', 'G'],\n",
        "    'I': ['S', 'K', 'L', 'F'],\n",
        "    'J': ['F', 'L'],\n",
        "    'K': ['I', 'H', 'M', 'N'],\n",
        "    'L': ['I', 'J', 'M'],\n",
        "    'M': ['L', 'K'],\n",
        "    'N': ['K', 'G']\n",
        "}\n",
        "\n",
        "def bfs(graph, start, goal):\n",
        "  queue = deque([start])\n",
        "  visited = set([start])\n",
        "  parent = {start: None}\n",
        "\n",
        "  while queue:\n",
        "    current = queue.popleft()\n",
        "    if(current == goal):\n",
        "      return reconstruct_path(parent,goal)\n",
        "\n",
        "    for neighbour in graph.get(current, []):\n",
        "      if neighbour not in visited:\n",
        "        queue.append(neighbour)\n",
        "        parent[neighbour] = current\n",
        "        visited.add(neighbour)\n",
        "\n",
        "  return None\n",
        "\n",
        "def reconstruct_path(parent,goal):\n",
        "  path = []\n",
        "  while goal is not None:\n",
        "    path.append(goal)\n",
        "    goal = parent[goal]\n",
        "\n",
        "  return path[::-1]\n",
        "\n",
        "start= 'S'\n",
        "goal = 'A'\n",
        "\n",
        "bfs_result = bfs(graph,start,goal)\n",
        "if bfs_result:\n",
        "  print(\"\\nBFS shortest path is : \", \"-> \".join(bfs_result))\n",
        "else:\n",
        "  print(\"goal does not exist in graph\")\n"
      ]
    },
    {
      "cell_type": "markdown",
      "metadata": {
        "id": "0g3LK5l1Us0q"
      },
      "source": [
        "#DFS\n"
      ]
    },
    {
      "cell_type": "code",
      "execution_count": null,
      "metadata": {
        "colab": {
          "base_uri": "https://localhost:8080/"
        },
        "id": "otyCw7kH5zT1",
        "outputId": "2468e08a-3ba3-4223-d389-95c8f12b8ddb"
      },
      "outputs": [],
      "source": [
        "graph = {\n",
        "    'S': ['E', 'H', 'I'],\n",
        "    'A': ['B', 'D'],\n",
        "    'B': ['A', 'E', 'C'],\n",
        "    'C': ['B', 'F'],\n",
        "    'D': ['A', 'E'],\n",
        "    'E': ['B', 'D', 'F'],\n",
        "    'F': ['J', 'I', 'E'],\n",
        "    'G': ['D', 'H', 'N'],\n",
        "    'H': ['S', 'K', 'G'],\n",
        "    'I': ['S', 'K', 'L', 'F'],\n",
        "    'J': ['F', 'L'],\n",
        "    'K': ['I', 'H', 'M', 'N'],\n",
        "    'L': ['I', 'J', 'M'],\n",
        "    'M': ['L', 'K'],\n",
        "    'N': ['K', 'G']\n",
        "}\n",
        "\n",
        "def dfs(graph, start, goal):\n",
        "  stack = [start]\n",
        "  visited = set([start])\n",
        "  parent = {start: None}\n",
        "\n",
        "  while stack:\n",
        "    current = stack.pop()\n",
        "\n",
        "    if current == goal:\n",
        "      return reconstruct_path(parent,goal)\n",
        "\n",
        "    for neighbour in reversed(graph.get(current, [])):\n",
        "      if neighbour not in visited:\n",
        "        stack.append(neighbour)\n",
        "        visited.add(neighbour)\n",
        "        parent[neighbour] = current\n",
        "\n",
        "  return None\n",
        "\n",
        "def reconstruct_path(parent, goal):\n",
        "  path = []\n",
        "  while goal is not None:\n",
        "    path.append(goal)\n",
        "    goal = parent[goal]\n",
        "\n",
        "  return path[::-1]\n",
        "\n",
        "start = 'S'\n",
        "goal = 'A'\n",
        "\n",
        "dfs_result = dfs(graph, start, goal)\n",
        "\n",
        "if dfs_result:\n",
        "  print(\"\\nDFS shortest path is : \",\"->\".join(dfs_result))\n",
        "else:\n",
        "  print(\"Goal does not exist in graph\")"
      ]
    },
    {
      "cell_type": "markdown",
      "metadata": {
        "id": "G6_LIq8ZpVFF"
      },
      "source": [
        "#UCS\n"
      ]
    },
    {
      "cell_type": "code",
      "execution_count": null,
      "metadata": {
        "colab": {
          "base_uri": "https://localhost:8080/"
        },
        "id": "yFE08T1mpUm-",
        "outputId": "2b9d5e0d-49d8-41c6-b2c4-6f2c571e11d5"
      },
      "outputs": [],
      "source": [
        "import heapq\n",
        "\n",
        "graph = {\n",
        "    'A': [('B', 13), ('C', 7), ('F', 5)],\n",
        "    'B': [('A', 13), ('H', 3), ('D', 3)],\n",
        "    'C': [('A', 7), ('D', 5), ('E', 1), ('G', 5)],\n",
        "    'D': [('B', 3), ('C', 5), ('H', 2)],\n",
        "    'E': [('C', 1), ('G', 4)],\n",
        "    'F': [('A', 5), ('G', 6)],\n",
        "    'G': [('F', 6), ('C', 5), ('E', 4)],\n",
        "    'H': [('B', 3), ('D', 2)]\n",
        "}\n",
        "\n",
        "def ucs(graph,start,goal):\n",
        "  priority_queue = [(0,start)]\n",
        "  visited = set()\n",
        "  parent = {start: None}\n",
        "  cost_so_far = {start: 0}\n",
        "\n",
        "  while priority_queue:\n",
        "    current_cost, current_node = heapq.heappop(priority_queue)\n",
        "\n",
        "    if current_node == goal:\n",
        "      return reconstruct_path(parent,goal), current_cost\n",
        "\n",
        "    if current_node in visited:\n",
        "      continue\n",
        "\n",
        "    visited.add(current_node)\n",
        "\n",
        "    for neighbour,edge_cost in graph.get(current_node,[]):\n",
        "      new_cost = current_cost + edge_cost\n",
        "\n",
        "      if neighbour not in cost_so_far or new_cost < cost_so_far[neighbour]:\n",
        "        cost_so_far[neighbour] = new_cost\n",
        "        parent[neighbour] = current_node\n",
        "        heapq.heappush(priority_queue,(new_cost,neighbour))\n",
        "\n",
        "  return None,float('inf')\n",
        "\n",
        "def reconstruct_path(parent,goal):\n",
        "  path = []\n",
        "  while goal is not None:\n",
        "    path.append(goal)\n",
        "    goal = parent[goal]\n",
        "\n",
        "  return path[::-1]\n",
        "\n",
        "start = 'A'\n",
        "goal = 'H'\n",
        "\n",
        "ucs_result, total_cost = ucs(graph,start,goal)\n",
        "\n",
        "if ucs_result:\n",
        "  print(\"\\nUCS path is : \", \"->\".join(ucs_result))\n",
        "  print(\"\\nTotal cost is : \",total_cost)\n",
        "else:\n",
        "  print(\"Goal does not exist in the graph.\")"
      ]
    },
    {
      "cell_type": "markdown",
      "metadata": {
        "id": "bDLSFixrHc0M"
      },
      "source": [
        "#DLS\n"
      ]
    },
    {
      "cell_type": "code",
      "execution_count": null,
      "metadata": {
        "colab": {
          "base_uri": "https://localhost:8080/"
        },
        "id": "4x5RUlDLHcVZ",
        "outputId": "5f6d7e73-c813-4b20-be56-18338db758f3"
      },
      "outputs": [],
      "source": [
        "def depth_limited_search(graph,start,goal,depth_limit):\n",
        "  stack = [(start,[start],0)]\n",
        "  visited = set()\n",
        "\n",
        "  while stack:\n",
        "    current, path, depth = stack.pop()\n",
        "    visited.add(current)\n",
        "\n",
        "    if current == goal:\n",
        "      return path\n",
        "\n",
        "    if depth < depth_limit:\n",
        "      for neighbour in reversed(graph.get(current,[])):\n",
        "        if neighbour not in visited and neighbour not in path:\n",
        "          stack.append((neighbour, path + [neighbour], depth + 1))\n",
        "\n",
        "\n",
        "  return \"Cut off\" if any(depth == depth_limit for _,_,depth in stack) else None\n",
        "\n",
        "graph = {\n",
        "    'S': ['E', 'H', 'I'],\n",
        "    'A': ['B', 'D'],\n",
        "    'B': ['A', 'E', 'C'],\n",
        "    'C': ['B', 'F'],\n",
        "    'D': ['A', 'E'],\n",
        "    'E': ['B', 'D', 'F'],\n",
        "    'F': ['J', 'I', 'E'],\n",
        "    'G': ['D', 'H', 'N'],\n",
        "    'H': ['S', 'K', 'G'],\n",
        "    'I': ['S', 'K', 'L', 'F'],\n",
        "    'J': ['F', 'L'],\n",
        "    'K': ['I', 'H', 'M', 'N'],\n",
        "    'L': ['I', 'J', 'M'],\n",
        "    'M': ['L', 'K'],\n",
        "    'N': ['K', 'G']\n",
        "}\n",
        "\n",
        "start = 'S'\n",
        "end = 'A'\n",
        "depth_limit = 3\n",
        "\n",
        "dls_result = depth_limited_search(graph,start,end,depth_limit)\n",
        "if dls_result == 'Cut off':\n",
        "  print(\"The goal is deeper than the limit \")\n",
        "elif dls_result is None:\n",
        "    print(\"\\nDLS Result: Failure (Goal not found within the depth limit)\")\n",
        "else:\n",
        "    print(\"\\nDLS Path Found:\", \" → \".join(dls_result))\n"
      ]
    },
    {
      "cell_type": "markdown",
      "metadata": {
        "id": "yrEgvNJPRHu8"
      },
      "source": [
        "#Iterative deepening search\n"
      ]
    },
    {
      "cell_type": "code",
      "execution_count": null,
      "metadata": {
        "colab": {
          "base_uri": "https://localhost:8080/"
        },
        "id": "NpVPT-0QRHXU",
        "outputId": "d9399ffd-55bf-4332-94a7-5805e549e438"
      },
      "outputs": [],
      "source": [
        "def iterative_depth_deepening_search(graph,start,goal,max_depth):\n",
        "  for depth in range(max_depth + 1):\n",
        "    print(f\"\\nSearching with limit : {depth}\")\n",
        "    result = depth_limited_search(graph,start,goal,depth)\n",
        "    if result == 'Cut off':\n",
        "      continue\n",
        "    elif result is not None:\n",
        "      return result\n",
        "\n",
        "  return None\n",
        "\n",
        "def depth_limited_search(graph, start,goal,depth_limit):\n",
        "  stack = [(start,[start],0)]\n",
        "  visited = set()\n",
        "\n",
        "  while stack:\n",
        "    current, path,depth = stack.pop()\n",
        "    visited.add(current)\n",
        "\n",
        "    if current == goal:\n",
        "      return path\n",
        "\n",
        "    if depth < depth_limit:\n",
        "      for neighbour in reversed(graph.get(current,[])):\n",
        "        if neighbour not in visited and neighbour not in path:\n",
        "          stack.append((neighbour, path + [neighbour], depth + 1))\n",
        "\n",
        "  return 'Cut off' if any(depth == depth_limit for _,_,depth in stack) else None\n",
        "\n",
        "\n",
        "graph = {\n",
        "    'S': ['E', 'H', 'I'],\n",
        "    'A': ['B', 'D'],\n",
        "    'B': ['A', 'E', 'C'],\n",
        "    'C': ['B', 'F'],\n",
        "    'D': ['A', 'E'],\n",
        "    'E': ['B', 'D', 'F'],\n",
        "    'F': ['J', 'I', 'E'],\n",
        "    'G': ['D', 'H', 'N'],\n",
        "    'H': ['S', 'K', 'G'],\n",
        "    'I': ['S', 'K', 'L', 'F'],\n",
        "    'J': ['F', 'L'],\n",
        "    'K': ['I', 'H', 'M', 'N'],\n",
        "    'L': ['I', 'J', 'M'],\n",
        "    'M': ['L', 'K'],\n",
        "    'N': ['K', 'G']\n",
        "}\n",
        "\n",
        "start = 'S'\n",
        "goal = 'A'\n",
        "max_depth = 5\n",
        "\n",
        "idds_result = iterative_depth_deepening_search(graph, start, goal,max_depth)\n",
        "if idds_result == 'Cut off':\n",
        "  print(\"The goal is deeper than the limit \")\n",
        "elif idds_result is None:\n",
        "   print(\"\\nIDDFS Result: Failure (Goal not found within the depth limit)\")\n",
        "else:\n",
        "    print(\"\\nIDDfS Path Found:\", \" → \".join(dls_result))"
      ]
    },
    {
      "cell_type": "markdown",
      "metadata": {
        "id": "xXUpS2N6fyfd"
      },
      "source": [
        "#A* search\n"
      ]
    },
    {
      "cell_type": "code",
      "execution_count": 2,
      "metadata": {
        "colab": {
          "base_uri": "https://localhost:8080/"
        },
        "id": "4_4oXul1fxS6",
        "outputId": "c24ae59a-00d4-4c51-89f8-6f6c34f48471"
      },
      "outputs": [
        {
          "name": "stdout",
          "output_type": "stream",
          "text": [
            "\n",
            "A star path is :  A->C->D->H\n",
            "\n",
            "Total cost is :  14\n"
          ]
        }
      ],
      "source": [
        "import heapq\n",
        "\n",
        "def A_star_search(graph,start,goal,heuristic):\n",
        "  priority_queue = [(heuristic[start],0,start)]\n",
        "  parent = {start: None}\n",
        "  cost_so_far = {start : 0}\n",
        "  visited= set()\n",
        "\n",
        "  while priority_queue:\n",
        "    f,g,current = heapq.heappop(priority_queue)\n",
        "\n",
        "    if current == goal:\n",
        "      return reconstruct_path(parent,goal),g\n",
        "\n",
        "    if current in visited:\n",
        "      continue\n",
        "\n",
        "    visited.add(current)\n",
        "    for neighbour,cost in graph.get(current,[]):\n",
        "      if neighbour not in cost_so_far or g + cost < cost_so_far[neighbour]:\n",
        "        new_g = g + cost\n",
        "        cost_so_far[neighbour] = new_g\n",
        "        parent[neighbour] = current\n",
        "        f = new_g + heuristic.get(neighbour,float('inf'))\n",
        "        heapq.heappush(priority_queue,(f,new_g,neighbour))\n",
        "\n",
        "  return None, float('inf')\n",
        "\n",
        "def reconstruct_path(parent,goal):\n",
        "  path = []\n",
        "  while goal is not None:\n",
        "    path.append(goal)\n",
        "    goal = parent[goal]\n",
        "\n",
        "  return path[::-1]\n",
        "\n",
        "graph = {\n",
        "    'A': [('B', 13), ('C', 7), ('F', 5)],\n",
        "    'B': [('A', 13), ('H', 3), ('D', 3)],\n",
        "    'C': [('A', 7), ('D', 5), ('E', 1), ('G', 5)],\n",
        "    'D': [('B', 3), ('C', 5), ('H', 2)],\n",
        "    'E': [('C', 1), ('G', 4)],\n",
        "    'F': [('A', 5), ('G', 6)],\n",
        "    'G': [('F', 6), ('C', 5), ('E', 4)],\n",
        "    'H': [('B', 3), ('D', 2)]\n",
        "}\n",
        "\n",
        "heuristic = {\n",
        "    'A': 10,\n",
        "    'B': 6,\n",
        "    'C': 6,\n",
        "    'D': 4,\n",
        "    'E': 7,\n",
        "    'F': 8,\n",
        "    'G': 5,\n",
        "    'H': 0\n",
        "}\n",
        "\n",
        "start = 'A'\n",
        "goal = 'H'\n",
        "\n",
        "a_star_path, total_cost = A_star_search(graph,start,goal,heuristic)\n",
        "if a_star_path:\n",
        "  print(\"\\nA star path is : \",\"->\".join(a_star_path))\n",
        "  print(\"\\nTotal cost is : \",total_cost)\n",
        "else:\n",
        "  print(\"\\nGoal does not exist in the graph.\")\n"
      ]
    },
    {
      "cell_type": "code",
      "execution_count": 1,
      "metadata": {},
      "outputs": [
        {
          "name": "stdout",
          "output_type": "stream",
          "text": [
            "[(0, 0), (1, 0), (1, 1), (2, 1), (3, 1), (3, 2), (3, 3), (4, 3), (4, 4)] 8 8\n",
            "S # # # # \n",
            "* * . . # \n",
            "# * # # # \n",
            ". * * * # \n",
            "# . # * E \n"
          ]
        }
      ],
      "source": [
        "import heapq\n",
        "\n",
        "maze = [\n",
        "    ['S', '#', '#', '#', '#'],\n",
        "    ['.', '.', '.', '.', '#'],\n",
        "    ['#', '.', '#', '#', '#'],\n",
        "    ['.', '.', '.', '.', '#'],\n",
        "    ['#', '.', '#', '.', 'E']\n",
        "]\n",
        "\n",
        "start = (0, 0)\n",
        "end = (4, 4)\n",
        "\n",
        "def manhattan(a, b):\n",
        "    return abs(a[0] - b[0]) + abs(a[1] - b[1])\n",
        "\n",
        "def a_star(maze, start, end):\n",
        "    rows, cols = len(maze), len(maze[0])\n",
        "    open_set = [(0 + manhattan(start, end), 0, start, [start])]\n",
        "    visited = {}\n",
        "\n",
        "    while open_set:\n",
        "        est_total, cost_so_far, current, path = heapq.heappop(open_set)\n",
        "\n",
        "        if current in visited:\n",
        "            continue\n",
        "        \n",
        "        visited[current] = cost_so_far\n",
        "\n",
        "        if current == end:\n",
        "            return (path, est_total, cost_so_far)\n",
        "\n",
        "        for dx, dy in [(-1,0),(1,0),(0,-1),(0,1)]:\n",
        "            nx, ny = current[0] + dx, current[1] + dy\n",
        "            if 0 <= nx < rows and 0 <= ny < cols and maze[nx][ny] != '#':\n",
        "                neighbor = (nx, ny)\n",
        "                if neighbor not in visited:\n",
        "                    new_cost = cost_so_far + 1\n",
        "                    est = new_cost + manhattan(neighbor, end)\n",
        "                    heapq.heappush(open_set, (est, new_cost, neighbor, path + [neighbor]))\n",
        "\n",
        "    return None\n",
        "\n",
        "path, est_total, cost_so_far = a_star(maze, start, end)\n",
        "print(path, est_total, cost_so_far)\n",
        "\n",
        "for i in range(len(maze)):\n",
        "    for j in range(len(maze[0])):\n",
        "        if (i, j) in path and maze[i][j] == '.':\n",
        "            print('*', end=' ')\n",
        "        else:\n",
        "            print(maze[i][j], end=' ')\n",
        "    print()"
      ]
    },
    {
      "cell_type": "markdown",
      "metadata": {},
      "source": []
    }
  ],
  "metadata": {
    "colab": {
      "provenance": []
    },
    "kernelspec": {
      "display_name": "Python 3",
      "name": "python3"
    },
    "language_info": {
      "codemirror_mode": {
        "name": "ipython",
        "version": 3
      },
      "file_extension": ".py",
      "mimetype": "text/x-python",
      "name": "python",
      "nbconvert_exporter": "python",
      "pygments_lexer": "ipython3",
      "version": "3.13.0"
    }
  },
  "nbformat": 4,
  "nbformat_minor": 0
}
