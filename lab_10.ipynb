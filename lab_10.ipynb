{
  "nbformat": 4,
  "nbformat_minor": 0,
  "metadata": {
    "colab": {
      "provenance": []
    },
    "kernelspec": {
      "name": "python3",
      "display_name": "Python 3"
    },
    "language_info": {
      "name": "python"
    }
  },
  "cells": [
    {
      "cell_type": "code",
      "execution_count": 1,
      "metadata": {
        "colab": {
          "base_uri": "https://localhost:8080/"
        },
        "id": "nV15Gzv2Jq86",
        "outputId": "39cece82-931c-427a-b401-804936ffb88d"
      },
      "outputs": [
        {
          "output_type": "stream",
          "name": "stdout",
          "text": [
            "Solution found in generation 14: [1, 1, 1, 1, 1, 1, 1, 1]\n"
          ]
        }
      ],
      "source": [
        "import random\n",
        "\n",
        "# Parameters\n",
        "L = 8                       # Length of the bit string\n",
        "POPULATION_SIZE = 10        # Number of individuals in the population\n",
        "MUTATION_RATE = 0.01        # Probability of flipping a bit\n",
        "MAX_GENERATIONS = 1000      # Max number of generations to avoid infinite loops\n",
        "\n",
        "def generate_individual():\n",
        "    return [random.randint(0, 1) for _ in range(L)]\n",
        "\n",
        "def fitness(individual):\n",
        "    return sum(individual)  # The goal is to maximize the number of 1s\n",
        "\n",
        "def mutate(individual):\n",
        "    return [bit if random.random() > MUTATION_RATE else 1 - bit for bit in individual]\n",
        "\n",
        "def crossover(parent1, parent2):\n",
        "    point = random.randint(1, L - 1)\n",
        "    return parent1[:point] + parent2[point:], parent2[:point] + parent1[point:]\n",
        "\n",
        "def select(population):\n",
        "    total_fitness = sum(fitness(ind) for ind in population)\n",
        "    if total_fitness == 0:\n",
        "        return random.choice(population)\n",
        "    pick = random.uniform(0, total_fitness)\n",
        "    current = 0\n",
        "    for ind in population:\n",
        "        current += fitness(ind)\n",
        "        if current > pick:\n",
        "            return ind\n",
        "\n",
        "# Initialize population\n",
        "population = [generate_individual() for _ in range(POPULATION_SIZE)]\n",
        "\n",
        "# Evolution loop\n",
        "for generation in range(MAX_GENERATIONS):\n",
        "    population = sorted(population, key=fitness, reverse=True)\n",
        "\n",
        "    if fitness(population[0]) == L:\n",
        "        print(f\"Solution found in generation {generation}: {population[0]}\")\n",
        "        break\n",
        "\n",
        "    next_generation = population[:2]  # Elitism: carry over top 2 individuals\n",
        "\n",
        "    while len(next_generation) < POPULATION_SIZE:\n",
        "        parent1 = select(population)\n",
        "        parent2 = select(population)\n",
        "        child1, child2 = crossover(parent1, parent2)\n",
        "        next_generation.extend([mutate(child1), mutate(child2)])\n",
        "\n",
        "    population = next_generation[:POPULATION_SIZE]  # Trim to population size\n",
        "\n",
        "else:\n",
        "    print(\"Solution not found within generation limit.\")\n",
        "\n"
      ]
    }
  ]
}