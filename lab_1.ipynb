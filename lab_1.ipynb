{
  "nbformat": 4,
  "nbformat_minor": 0,
  "metadata": {
    "colab": {
      "provenance": []
    },
    "kernelspec": {
      "name": "python3",
      "display_name": "Python 3"
    },
    "language_info": {
      "name": "python"
    }
  },
  "cells": [
    {
      "cell_type": "markdown",
      "source": [],
      "metadata": {
        "id": "zlWhLA6fDIZw"
      }
    },
    {
      "cell_type": "markdown",
      "source": [
        "# Code before activities"
      ],
      "metadata": {
        "id": "TV3_7HUrDWTB"
      }
    },
    {
      "cell_type": "code",
      "source": [
        "for i in range(20):\n",
        "    if i%4 == 0:\n",
        "        print(i)\n",
        "    if i%10 == 0:\n",
        "        print(\"Bingo!\")\n",
        "print(\"---\")\n",
        "\n",
        "print(type(10))\n",
        "\n",
        "# how to use binary octal and hexadecimal\n",
        "print(0b10)\n",
        "print(0o10)\n",
        "print(0x10)\n",
        "print(type(0o10))\n",
        "print(.4e7)  # for raised to the power.\n",
        "print(type(.4e7))\n",
        "\n",
        "print(1.79e308)\n",
        "print(type(1.8e308))\n",
        "\n",
        "#complex\n",
        "a= 6+8j\n",
        "b = 4 + 9j\n",
        "print(a+b)\n",
        "print(type(a))\n",
        "\n",
        "# String\n",
        "print(type(\"I am a string\"))\n",
        "\n",
        "print(\"This string contains a single quote (') character.\")\n",
        "print('This string contains a single quote (\\') character.')\n",
        "\n",
        "print('a\\\n",
        "... b\\\n",
        "... c') # breaking into multiple lines.\n",
        "\n",
        "print('foo\\tbar')\n",
        "print(\"a\\141\\x61\")\n",
        "print('\\u2192 \\N{rightwards arrow}')\n"
      ],
      "metadata": {
        "id": "VFdug8I-Dbsk"
      },
      "execution_count": null,
      "outputs": []
    },
    {
      "cell_type": "markdown",
      "source": [
        "#Activity 1"
      ],
      "metadata": {
        "id": "FeYGXOKKDmYS"
      }
    },
    {
      "cell_type": "code",
      "execution_count": 1,
      "metadata": {
        "id": "bh4O2AEMC6vD"
      },
      "outputs": [],
      "source": [
        "num = int(input(\"Enter a number: \"))\n",
        "\n",
        "if(num % 2 == 0):\n",
        "    print(f\"{num} is even.\")\n",
        "else:\n",
        "    print(f\"{num} is odd.\")"
      ]
    },
    {
      "cell_type": "markdown",
      "source": [],
      "metadata": {
        "id": "wUtrPbSFD0uq"
      }
    },
    {
      "cell_type": "markdown",
      "source": [
        "# Activity 2"
      ],
      "metadata": {
        "id": "mFjjVtcbD2z_"
      }
    },
    {
      "cell_type": "code",
      "source": [
        "sum = 0\n",
        "number = int(input(\"Enter a number and press 0 to terminate: \"))\n",
        "while(True):\n",
        "    if(number == 0):\n",
        "        break\n",
        "    sum += number\n",
        "    number = int(input(\"Enter a number and press 0 to terminate: \"))\n",
        "\n",
        "print(f\"Sum is {sum}.\")"
      ],
      "metadata": {
        "id": "V14sO-HGD1eO"
      },
      "execution_count": null,
      "outputs": []
    },
    {
      "cell_type": "markdown",
      "source": [
        "# Activity 3"
      ],
      "metadata": {
        "id": "pW_kAohtEHZo"
      }
    },
    {
      "cell_type": "code",
      "source": [
        "isPrime = True\n",
        "primeInput = int(input(\"Enter a number to check whether it is prime or not: \"))\n",
        "i = 2\n",
        "while i < primeInput:\n",
        "    n = primeInput % i\n",
        "    if n == 0:\n",
        "        isPrime = False\n",
        "        break\n",
        "    else:\n",
        "        i = i+1\n",
        "if isPrime:\n",
        "    print(\"The number is prime.\")\n",
        "else:\n",
        "    print(\"The number is not prime.\")\n"
      ],
      "metadata": {
        "id": "BqH82cDWEE6n"
      },
      "execution_count": null,
      "outputs": []
    },
    {
      "cell_type": "markdown",
      "source": [
        "# Activity 4"
      ],
      "metadata": {
        "id": "tL3fYGm4EQRL"
      }
    },
    {
      "cell_type": "code",
      "source": [
        "summation = 0\n",
        "i = 0\n",
        "while i<=4:\n",
        "    inputFiveValues = int(input(\"Enter a number : \"))\n",
        "    summation += inputFiveValues\n",
        "    i = i+1\n",
        "\n",
        "print(f\"Sum of 5 input values is : {summation}\")"
      ],
      "metadata": {
        "id": "96vRNUtJEPbJ"
      },
      "execution_count": null,
      "outputs": []
    },
    {
      "cell_type": "markdown",
      "source": [
        "# Activity 5"
      ],
      "metadata": {
        "id": "JapjQnEeEY2f"
      }
    },
    {
      "cell_type": "code",
      "source": [
        "input = int(input(\"Enter the value of n: \"))\n",
        "print(\"Sum : {}\".format(input*(input + 1)/2))\n",
        "\n",
        "s = 0\n",
        "for i in range(1,101):\n",
        "    s = s+i\n",
        "\n",
        "print(s)\n",
        "\n",
        "print(sum(range(1,101)))"
      ],
      "metadata": {
        "id": "m0L9KPrdEXdH"
      },
      "execution_count": null,
      "outputs": []
    },
    {
      "cell_type": "markdown",
      "source": [
        "# Activity 6"
      ],
      "metadata": {
        "id": "0w0KJOntEhkB"
      }
    },
    {
      "cell_type": "code",
      "source": [
        "name = input('What is your name? ')\n",
        "print('Hello ' + name)\n",
        "job = input('What is your job? ')\n",
        "print('Your job is ' + job)\n",
        "num = input('Give me a number? ')\n",
        "print('You said: ' + str(num))"
      ],
      "metadata": {
        "id": "2m2tCaQ9Egxi"
      },
      "execution_count": null,
      "outputs": []
    },
    {
      "cell_type": "markdown",
      "source": [
        "# Activity 7\n"
      ],
      "metadata": {
        "id": "IDMnK-loEpuM"
      }
    },
    {
      "cell_type": "code",
      "source": [
        "import random\n",
        "\n",
        "Minimum = 1\n",
        "Maximum = 9\n",
        "randomNumber = random.randint(Minimum, Maximum)\n",
        "Guess = None\n",
        "Running = True\n",
        "Try = 0  # Number of attempts\n",
        "\n",
        "del input\n",
        "while Running:\n",
        "    Guess = input(\"Enter a guess number or type 'exit' to escape: \")\n",
        "\n",
        "    if Guess.lower() == 'exit':  # Check 'exit' before converting to int\n",
        "        print(\"Better luck next time!\")\n",
        "        break\n",
        "\n",
        "    try:\n",
        "        Guess = int(Guess)  # Convert input to integer\n",
        "    except ValueError:\n",
        "        print(\"Invalid input! Please enter a number.\")\n",
        "        continue  # Skip this iteration and ask again\n",
        "\n",
        "    Try += 1  # Increment attempts\n",
        "\n",
        "    if Guess < randomNumber:\n",
        "        print(\"Wrong, too low.\")\n",
        "    elif Guess > randomNumber:\n",
        "        print(\"Wrong, too high.\")\n",
        "    else:\n",
        "        print(\"Yes, that's the one: {}\".format(randomNumber))\n",
        "\n",
        "        if Try == 1:\n",
        "            print(\"Amazing! You guessed it in just 1 try!\")\n",
        "        elif 2 <= Try < 10:\n",
        "            print(\"Pretty good, you did it in {} tries.\".format(Try))\n",
        "        else:\n",
        "            print(\"Bad tries, you took {} attempts.\".format(Try))\n",
        "\n",
        "        Running = False  # Stop the loop after correct guess\n"
      ],
      "metadata": {
        "id": "EelSOOZaEo2j"
      },
      "execution_count": null,
      "outputs": []
    },
    {
      "cell_type": "markdown",
      "source": [
        "# Lab task 1\n"
      ],
      "metadata": {
        "id": "mW6hByElEzKt"
      }
    },
    {
      "cell_type": "code",
      "source": [
        "import math\n",
        "\n",
        "userInput = int(input(\"Enter a number: \"))\n",
        "list = []\n",
        "\n",
        "while userInput > 1:\n",
        "    res = math.floor(userInput % 10)\n",
        "    userInput = userInput/10\n",
        "    list.append(res)\n",
        "\n",
        "for i in range(0,len(list)):\n",
        "    print(list[i],end=\"\")\n",
        "    i = i+1\n",
        "print()\n"
      ],
      "metadata": {
        "id": "IZCwObYBEyBc"
      },
      "execution_count": null,
      "outputs": []
    },
    {
      "cell_type": "markdown",
      "source": [
        "# Lab task 2\n"
      ],
      "metadata": {
        "id": "B0uMhFXZE7EK"
      }
    },
    {
      "cell_type": "code",
      "source": [
        "inputList = []\n",
        "evenSum = 0\n",
        "oddSum = 0\n",
        "\n",
        "while True:\n",
        "    userInputValue = (input(\"Enter a value or exit to terminate: \"))\n",
        "\n",
        "    if userInputValue.lower() == 'exit':\n",
        "        print(f\"Even sum is : {evenSum}, Odd sum is : {oddSum}\")\n",
        "        break\n",
        "    else:\n",
        "        if int(userInputValue) % 2 == 0:\n",
        "            evenSum += int(userInputValue)\n",
        "        else:\n",
        "            oddSum += int(userInputValue)\n"
      ],
      "metadata": {
        "id": "td86mw93E6g0"
      },
      "execution_count": null,
      "outputs": []
    },
    {
      "cell_type": "markdown",
      "source": [
        "# Lab task 3\n"
      ],
      "metadata": {
        "id": "n8fxm-BzFDL-"
      }
    },
    {
      "cell_type": "code",
      "source": [
        "def fibonacci(n):\n",
        "    if n == 0:\n",
        "        return 0\n",
        "    elif n == 1:\n",
        "        return 1\n",
        "    return fibonacci(n-1)+fibonacci(n-2)\n",
        "\n",
        "print(f\"Fibonacci of 4 is : {fibonacci(4)}\")\n",
        "\n",
        "fibonacciNumber = int(input(\"Enter the number to calculate the fibonacci: \"))\n",
        "list = [0,1]\n",
        "res = 0\n",
        "\n",
        "if(fibonacciNumber == 0):\n",
        "    print(\"Fibonacci is 0\")\n",
        "elif(fibonacciNumber == 1):\n",
        "    print(\"Fibonacci is 1\")\n",
        "else:\n",
        "    fibIndex = 2\n",
        "    while fibIndex <= fibonacciNumber:\n",
        "        res = list[fibIndex-1]+list[fibIndex-2]\n",
        "        fibIndex = fibIndex + 1\n",
        "        list.append(res)\n",
        "    print(f\"Fibonacci is : {list[fibonacciNumber]}\")\n"
      ],
      "metadata": {
        "id": "9_Tt7KOHFCZH"
      },
      "execution_count": null,
      "outputs": []
    },
    {
      "cell_type": "markdown",
      "source": [
        "# Lab task 4"
      ],
      "metadata": {
        "id": "CvQdvi9QFNdk"
      }
    },
    {
      "cell_type": "code",
      "source": [
        "marks = int(input(\"Enter the marks of the student : \"))\n",
        "if(marks < 50):\n",
        "    print(\"Your Grade is F\")\n",
        "elif(marks >= 50 and marks <= 60):\n",
        "    print(\"Your Grade is E\")\n",
        "elif(marks >= 61 and marks <= 70):\n",
        "    print(\"Your Grade is D\")\n",
        "elif(marks >= 71 and marks <= 80):\n",
        "    print(\"Your Grade is C\")\n",
        "elif(marks >= 81 and marks <= 90):\n",
        "    print(\"Your Grade is B\")\n",
        "elif(marks >= 91 and marks <= 100):\n",
        "    print(\"Your Grade is A\")\n",
        "else:\n",
        "    print(\"Please enter marks between 0 and 100.\")\n"
      ],
      "metadata": {
        "id": "t7lmiDKMFMiI"
      },
      "execution_count": null,
      "outputs": []
    },
    {
      "cell_type": "markdown",
      "source": [
        "# Lab task 5\n"
      ],
      "metadata": {
        "id": "9Ve_VooCFWZr"
      }
    },
    {
      "cell_type": "code",
      "source": [
        "userInputForFactorial = int(input(\"Enter the number to find factorial: \"))\n",
        "\n",
        "def factorial(num):\n",
        "    if (num == 0 or num == 1):\n",
        "        return 1\n",
        "    return num * factorial(num-1)\n",
        "\n",
        "print(f\"Recursive factorial is : {factorial(userInputForFactorial)}\")\n",
        "\n",
        "for i in range(1,userInputForFactorial):\n",
        "    userInputForFactorial *= i\n",
        "    i += 1\n",
        "\n",
        "print(f\"Iterative factorial is : {userInputForFactorial}\")\n"
      ],
      "metadata": {
        "id": "UZ5Mrwb8FU1g"
      },
      "execution_count": null,
      "outputs": []
    },
    {
      "cell_type": "markdown",
      "source": [],
      "metadata": {
        "id": "3G-PSXoaEF3L"
      }
    }
  ]
}