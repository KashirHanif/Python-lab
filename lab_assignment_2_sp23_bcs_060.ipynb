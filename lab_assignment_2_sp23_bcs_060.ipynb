{
  "nbformat": 4,
  "nbformat_minor": 0,
  "metadata": {
    "colab": {
      "provenance": []
    },
    "kernelspec": {
      "name": "python3",
      "display_name": "Python 3"
    },
    "language_info": {
      "name": "python"
    }
  },
  "cells": [
    {
      "cell_type": "markdown",
      "source": [
        "#Lab Assignment 2\n"
      ],
      "metadata": {
        "id": "Uw7ziZrGEoVa"
      }
    },
    {
      "cell_type": "code",
      "execution_count": 14,
      "metadata": {
        "colab": {
          "base_uri": "https://localhost:8080/"
        },
        "id": "mrFcY19rEmW8",
        "outputId": "64a9d793-3022-4ddc-976c-b1b7cdafa91b"
      },
      "outputs": [
        {
          "output_type": "stream",
          "name": "stdout",
          "text": [
            "Path: S → H → C → D → F → G\n",
            "Total Cost: 13\n"
          ]
        }
      ],
      "source": [
        "import heapq\n",
        "\n",
        "def a_star_search(graph, heuristics, start, goal):\n",
        "    open_heap = []\n",
        "    heapq.heappush(open_heap, (heuristics[start], 0, start, [start]))\n",
        "    visited = {start: 0}\n",
        "\n",
        "    while open_heap:\n",
        "        current_f, current_g, current_node, path = heapq.heappop(open_heap)\n",
        "\n",
        "        if current_node == goal:\n",
        "            return path, current_g\n",
        "\n",
        "        for neighbor, cost in graph.get(current_node, []):\n",
        "            new_g = current_g + cost\n",
        "            if neighbor not in visited or new_g < visited.get(neighbor, float('inf')):\n",
        "                visited[neighbor] = new_g\n",
        "                new_f = new_g + heuristics.get(neighbor, 0)\n",
        "                new_path = path + [neighbor]\n",
        "                heapq.heappush(open_heap, (new_f, new_g, neighbor, new_path))\n",
        "\n",
        "    return None, float('inf')\n",
        "\n",
        "heuristics = {\n",
        "    'S': 11, 'A': 9, 'B': 7, 'C': 4, 'D': 3,\n",
        "    'E': 2, 'F': 4, 'G': 0, 'H': 6, 'I': 7\n",
        "}\n",
        "\n",
        "graph = {\n",
        "    'S': [('H', 2)],\n",
        "    'H': [('C', 3)],\n",
        "    'C': [('D', 1)],\n",
        "    'D': [('F', 4)],\n",
        "    'F': [('G', 3)],\n",
        "    'G': []\n",
        "}\n",
        "\n",
        "path, total_cost = a_star_search(graph, heuristics, 'S', 'G')\n",
        "\n",
        "print(\"Path:\", ' → '.join(path))\n",
        "print(\"Total Cost:\", total_cost)"
      ]
    }
  ]
}